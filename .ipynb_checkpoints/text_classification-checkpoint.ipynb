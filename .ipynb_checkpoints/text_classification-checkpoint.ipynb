{
 "cells": [
  {
   "cell_type": "code",
   "execution_count": 157,
   "id": "b7b480a0",
   "metadata": {
    "scrolled": true
   },
   "outputs": [],
   "source": [
    "import sys\n",
    "import numpy as np\n",
    "import pandas as pd\n",
    "from matplotlib import pyplot as plt\n",
    "from sklearn import datasets as ds\n",
    "from sklearn.model_selection import train_test_split\n",
    "from sklearn.naive_bayes import MultinomialNB\n",
    "from sklearn.feature_extraction.text import CountVectorizer\n",
    "from sklearn.metrics import accuracy_score, classification_report, confusion_matrix, f1_score\n",
    "import math"
   ]
  },
  {
   "cell_type": "code",
   "execution_count": 158,
   "id": "5a86f531",
   "metadata": {},
   "outputs": [],
   "source": [
    "BBC_PATH = \"./DATA/BBC/\"\n",
    "\n",
    "def Write_to_file(txt):\n",
    "    try:\n",
    "        with open(r\"bbc-performance.txt\", \"a\") as result_file:\n",
    "            result_file.write(txt)\n",
    "    except Exception as e:\n",
    "        print(\"ERROR SOMETHING HAPPENED WHEN WRITING TO FILE. EXCEPTION WAS THROWN\")\n",
    "        print(e)\n",
    "        sys.exit()"
   ]
  },
  {
   "cell_type": "code",
   "execution_count": 159,
   "id": "ffe28ff4",
   "metadata": {
    "scrolled": true
   },
   "outputs": [
    {
     "data": {
      "image/png": "[encoded data removed]",
      "text/plain": [
       "<Figure size 432x288 with 1 Axes>"
      ]
     },
     "metadata": {
      "needs_background": "light"
     },
     "output_type": "display_data"
    }
   ],
   "source": [
    "data = ds.load_files(BBC_PATH, encoding=\"latin1\")\n",
    "\n",
    "labels, counts = np.unique(data.target, return_counts=True)\n",
    "classes_dic = dict(zip(np.array(data.target_names)[labels], counts))\n",
    "\n",
    "plt.title(\"Class distribution of the BBC dataset\")\n",
    "plt.xlabel(\"classes\")\n",
    "plt.ylabel(\"Number of files\")\n",
    "plt.bar([1, 2, 3, 4, 5], counts)\n",
    "\n",
    "plt.savefig(\"BBC-distribution.pdf\")\n",
    "\n",
    "x_train, x_test, y_train, y_test = train_test_split(\n",
    "    data.data, data.target, train_size=0.2, test_size=0.8)\n",
    "total_files = np.sum(counts)"
   ]
  },
  {
   "cell_type": "code",
   "execution_count": 160,
   "id": "ad96f14b",
   "metadata": {},
   "outputs": [],
   "source": [
    "def Task1(try_numb, x_train, x_test, y_train, y_test, smoothing=None):\n",
    "    vectorizer = CountVectorizer(stop_words='english')\n",
    "    count_matrix = vectorizer.fit_transform(data[\"data\"])\n",
    "    count_array = count_matrix.toarray()\n",
    "    \n",
    "    classification = MultinomialNB(alpha=smoothing) if (smoothing != None) else MultinomialNB()\n",
    "    classification.fit(vectorizer.transform(x_train), y_train)\n",
    "\n",
    "    y_pred = classification.predict(vectorizer.transform(x_test))\n",
    "\n",
    "    Write_to_file(\"a)\\n******************** MultinomialNB default values try \" +\n",
    "                        str(try_numb) + \" ********************\\n\")\n",
    "    Write_to_file(\"b)\\n\" +\n",
    "                        str(confusion_matrix(y_test, y_pred)) + \"\\n\")\n",
    "    Write_to_file(\n",
    "        \"c)\\n\" + str(classification_report(y_test, y_pred)) + \"\\n\")\n",
    "    Write_to_file(\"d)\\naccuracy: \" +\n",
    "                        str(accuracy_score(y_test, y_pred)) + \"\\n\")\n",
    "    Write_to_file(\n",
    "        \"macro average F1: \" + str(f1_score(y_test, y_pred, average='macro')) + \"\\n\")\n",
    "    Write_to_file(\n",
    "        \"weighted average F1: \" + str(f1_score(y_test, y_pred, average='weighted')) + \"\\n\")\n",
    "    Write_to_file(\"e)\\n\")\n",
    "    for key, value in classes_dic.items():\n",
    "        prob = value/total_files\n",
    "        Write_to_file(\"Probability of class \" +  str(key) + \": \" + str(prob) + \"\\n\")\n",
    "    vocabulary_size = len(vectorizer.get_feature_names_out())\n",
    "    Write_to_file(\"f)\\nSize of vocabulary: \" + str(vocabulary_size) + \"\\n\")\n",
    "\n",
    "    Write_to_file(\"g)\\nNumber of word-tokens in each class:\\n\")\n",
    "    word_tokens = classification.feature_count_\n",
    "    total_count_word_tokens = 0\n",
    "    for i in range(0,len(word_tokens)):\n",
    "        tokens = np.sum(word_tokens[i])\n",
    "        Write_to_file(str(data.target_names[i]) + \": \" + str(tokens) + \"\\n\")\n",
    "\n",
    "    total_count_word_tokens = np.sum(word_tokens)\n",
    "    Write_to_file(\"h)\\nNumber of word-tokens in corpus: \" + str(total_count_word_tokens) + \"\\n\")\n",
    "\n",
    "    Write_to_file(\"i)\\n\")\n",
    "    for i in range(0,len(word_tokens)):\n",
    "#         zeros_in_class = np.count_nonzero(word_tokens[i] == 0)\n",
    "        zeros_in_class = vocabulary_size - np.count_nonzero(word_tokens[i] == 0)\n",
    "        Write_to_file(f\"Number of zeros in {data.target_names[i]}: {zeros_in_class}\\n With percentage of {zeros_in_class*100/vocabulary_size}\\n\")\n",
    "    \n",
    "    ones_in_class = np.count_nonzero(word_tokens == 1)\n",
    "    Write_to_file(f\"j)\\nNumber of ones in {data.target_names[i]}: {ones_in_class}\\n With percentage of {ones_in_class * 100/vocabulary_size}\\n\")\n",
    "    \n",
    "    Write_to_file(\"k)\\n\")\n",
    "\n",
    "    vocab = vectorizer.get_feature_names()\n",
    "    index1 = vocab.index('artistic')\n",
    "    index2 = vocab.index('arrangement')\n",
    "    sum1 = 0\n",
    "    sum2 = 0\n",
    "    for cls in word_tokens:\n",
    "        sum1+= cls[index1]\n",
    "        sum2+= cls[index2]\n",
    "    ans1 = math.log(sum1/total_count_word_tokens)\n",
    "    ans2 = math.log(sum2/total_count_word_tokens)\n",
    "    \n",
    "    Write_to_file(str(ans1)+\" and \"+str(ans2))\n",
    "    \n",
    "    "
   ]
  },
  {
   "cell_type": "code",
   "execution_count": 161,
   "id": "1543ab60",
   "metadata": {},
   "outputs": [
    {
     "name": "stderr",
     "output_type": "stream",
     "text": [
      "/Library/Frameworks/Python.framework/Versions/3.7/lib/python3.7/site-packages/sklearn/utils/deprecation.py:87: FutureWarning: Function get_feature_names is deprecated; get_feature_names is deprecated in 1.0 and will be removed in 1.2. Please use get_feature_names_out instead.\n",
      "  warnings.warn(msg, category=FutureWarning)\n",
      "/Library/Frameworks/Python.framework/Versions/3.7/lib/python3.7/site-packages/sklearn/utils/deprecation.py:87: FutureWarning: Function get_feature_names is deprecated; get_feature_names is deprecated in 1.0 and will be removed in 1.2. Please use get_feature_names_out instead.\n",
      "  warnings.warn(msg, category=FutureWarning)\n",
      "/Library/Frameworks/Python.framework/Versions/3.7/lib/python3.7/site-packages/sklearn/utils/deprecation.py:87: FutureWarning: Function get_feature_names is deprecated; get_feature_names is deprecated in 1.0 and will be removed in 1.2. Please use get_feature_names_out instead.\n",
      "  warnings.warn(msg, category=FutureWarning)\n",
      "/Library/Frameworks/Python.framework/Versions/3.7/lib/python3.7/site-packages/sklearn/utils/deprecation.py:87: FutureWarning: Function get_feature_names is deprecated; get_feature_names is deprecated in 1.0 and will be removed in 1.2. Please use get_feature_names_out instead.\n",
      "  warnings.warn(msg, category=FutureWarning)\n"
     ]
    }
   ],
   "source": [
    "Task1(1, x_train, x_test, y_train, y_test)\n",
    "\n",
    "Task1(2, x_train, x_test, y_train, y_test)\n",
    "\n",
    "Task1(3, x_train, x_test, y_train, y_test, smoothing=0.0001)\n",
    "\n",
    "Task1(4, x_train, x_test, y_train, y_test, smoothing=0.9)"
   ]
  },
  {
   "cell_type": "code",
   "execution_count": null,
   "id": "f4220184",
   "metadata": {},
   "outputs": [],
   "source": []
  }
 ],
 "metadata": {
  "kernelspec": {
   "display_name": "Python 3 (ipykernel)",
   "language": "python",
   "name": "python3"
  },
  "language_info": {
   "codemirror_mode": {
    "name": "ipython",
    "version": 3
   },
   "file_extension": ".py",
   "mimetype": "text/x-python",
   "name": "python",
   "nbconvert_exporter": "python",
   "pygments_lexer": "ipython3",
   "version": "3.7.3"
  }
 },
 "nbformat": 4,
 "nbformat_minor": 5
}
