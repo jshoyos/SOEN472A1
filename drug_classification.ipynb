{
 "cells": [
  {
   "cell_type": "code",
   "execution_count": null,
   "id": "7cfe907f",
   "metadata": {},
   "outputs": [],
   "source": [
    "import pandas as pd\n",
    "import numpy as np\n",
    "from matplotlib import pyplot as plt\n",
    "from sklearn import datasets as ds\n",
    "from sklearn.model_selection import train_test_split\n",
    "import csv\n",
    "from sklearn.naive_bayes import GaussianNB\n",
    "from sklearn.metrics import confusion_matrix\n",
    "from sklearn.metrics import classification_report\n",
    "from sklearn.metrics import accuracy_score\n",
    "from sklearn.metrics import f1_score\n",
    "from sklearn.tree import DecisionTreeClassifier\n",
    "from sklearn.model_selection import GridSearchCV\n",
    "from sklearn.linear_model import Perceptron\n",
    "from sklearn.neural_network import MLPClassifier"
   ]
  },
  {
   "cell_type": "code",
   "execution_count": null,
   "id": "a6fd8ca3",
   "metadata": {
    "scrolled": true
   },
   "outputs": [],
   "source": [
    "data = pd.read_csv('DATA/drug200.csv')\n",
    "drug_count = pd.DataFrame(data[\"Drug\"].value_counts())\n",
    "drug_count_bar = drug_count.plot(kind=\"bar\")"
   ]
  },
  {
   "cell_type": "code",
   "execution_count": null,
   "id": "0d11cb22",
   "metadata": {
    "scrolled": true
   },
   "outputs": [],
   "source": [
    "# bp levels is ordinal therefore use categorical\n",
    "data.BP=pd.Categorical(data.BP,[\"LOW\",\"NORMAL\",\"HIGH\"],ordered=True)\n",
    "data.BP= data.BP.cat.codes\n",
    "# cholesterol levels is ordinal therefore use categorical\n",
    "data.Cholesterol=pd.Categorical(data.Cholesterol,[\"LOW\",\"NORMAL\",\"HIGH\"],ordered=True)\n",
    "data.Cholesterol= data.Cholesterol.cat.codes\n",
    "# sex is nominal therefore use get_dummies\n",
    "data_final = pd.get_dummies(data, columns=['Sex'])"
   ]
  },
  {
   "cell_type": "code",
   "execution_count": null,
   "id": "d726049d",
   "metadata": {
    "scrolled": true
   },
   "outputs": [],
   "source": [
    "train, test = train_test_split(data_final)\n",
    "x_train = train.iloc[:,:-3].values\n",
    "y_train = train.iloc[:, -3].values\n",
    "x_test = test.iloc[:,:-3].values\n",
    "y_test = test.iloc[:, -3].values"
   ]
  },
  {
   "cell_type": "code",
   "execution_count": null,
   "id": "61702f87",
   "metadata": {
    "scrolled": true
   },
   "outputs": [],
   "source": [
    "clf = GaussianNB()\n",
    "clf.fit(x_train,y_train)\n",
    "y_pred =clf.predict(x_test)\n",
    "\n",
    "with open('drugs-performance.txt','a') as file:\n",
    "    file.write(\"a)\\n******************** Gaussian Naive Bayes Classifier ********************\\n\")\n",
    "    file.write(\"b)\\n\" + str(confusion_matrix(y_test, y_pred))+ \"\\n\")\n",
    "    file.write(\"c)\\n\" + str(classification_report(y_test,y_pred)) + \"\\n\")\n",
    "    file.write(\"d)\\naccuracy: \" + str(accuracy_score(y_test, y_pred)) + \"\\n\")\n",
    "    file.write(\"macro average F1: \" + str(f1_score(y_test, y_pred, average='macro')) + \"\\n\")\n",
    "    file.write(\"weighted average F1: \" + str(f1_score(y_test, y_pred, average='weighted')) + \"\\n\")"
   ]
  },
  {
   "cell_type": "code",
   "execution_count": null,
   "id": "5c93aa83",
   "metadata": {
    "scrolled": true
   },
   "outputs": [],
   "source": [
    "clf = DecisionTreeClassifier()\n",
    "clf.fit(x_train,y_train)\n",
    "y_pred = clf.predict(x_test)\n",
    "\n",
    "with open('drugs-performance.txt','a') as file:\n",
    "    file.write(\"a)\\n******************** Base Decision Tree Classifier ********************\\n\")\n",
    "    file.write(\"b)\\n\" + str(confusion_matrix(y_test, y_pred))+ \"\\n\")\n",
    "    file.write(\"c)\\n\" + str(classification_report(y_test,y_pred)) + \"\\n\")\n",
    "    file.write(\"d)\\naccuracy: \" + str(accuracy_score(y_test, y_pred)) + \"\\n\")\n",
    "    file.write(\"macro average F1: \" + str(f1_score(y_test, y_pred, average='macro')) + \"\\n\")\n",
    "    file.write(\"weighted average F1: \" + str(f1_score(y_test, y_pred, average='weighted')) + \"\\n\")"
   ]
  },
  {
   "cell_type": "code",
   "execution_count": null,
   "id": "8fc816a0",
   "metadata": {},
   "outputs": [],
   "source": [
    "parameters = {\n",
    "    'criterion': ['gini','entropy'],\n",
    "    'max_depth': [60,80],\n",
    "    'min_samples_split': [20,60,80],\n",
    "}\n",
    "grid = GridSearchCV(DecisionTreeClassifier(),parameters)\n",
    "grid.fit(x_train,y_train)\n",
    "grid.best_params_\n",
    "y_pred = clf.predict(x_test)\n",
    "\n",
    "with open('drugs-performance.txt','a') as file:\n",
    "    file.write(\"a)\\n******************** Top Decision Tree Classifier ********************\\n\")\n",
    "    file.write(\"b)\\n\" + str(confusion_matrix(y_test, y_pred))+ \"\\n\")\n",
    "    file.write(\"c)\\n\" + str(classification_report(y_test,y_pred)) + \"\\n\")\n",
    "    file.write(\"d)\\naccuracy: \" + str(accuracy_score(y_test, y_pred)) + \"\\n\")\n",
    "    file.write(\"macro average F1: \" + str(f1_score(y_test, y_pred, average='macro')) + \"\\n\")\n",
    "    file.write(\"weighted average F1: \" + str(f1_score(y_test, y_pred, average='weighted')) + \"\\n\")"
   ]
  },
  {
   "cell_type": "code",
   "execution_count": null,
   "id": "8cef6d5e",
   "metadata": {},
   "outputs": [],
   "source": [
    "clf = Perceptron()\n",
    "clf.fit(x_train,y_train)\n",
    "y_pred = clf.predict(x_test)\n",
    "\n",
    "with open('drugs-performance.txt','a') as file:\n",
    "    file.write(\"a)\\n******************** Perceptron Classifier ********************\\n\")\n",
    "    file.write(\"b)\\n\" + str(confusion_matrix(y_test, y_pred))+ \"\\n\")\n",
    "    file.write(\"c)\\n\" + str(classification_report(y_test,y_pred)) + \"\\n\")\n",
    "    file.write(\"d)\\naccuracy: \" + str(accuracy_score(y_test, y_pred)) + \"\\n\")\n",
    "    file.write(\"macro average F1: \" + str(f1_score(y_test, y_pred, average='macro')) + \"\\n\")\n",
    "    file.write(\"weighted average F1: \" + str(f1_score(y_test, y_pred, average='weighted')) + \"\\n\")"
   ]
  },
  {
   "cell_type": "code",
   "execution_count": null,
   "id": "e3da2f7e",
   "metadata": {},
   "outputs": [],
   "source": [
    "clf = MLPClassifier(hidden_layer_sizes=(100), activation='logistic', solver='sgd')\n",
    "clf.fit(x_train,y_train)\n",
    "y_pred = clf.predict(x_test)\n",
    "\n",
    "with open('drugs-performance.txt','a') as file:\n",
    "    file.write(\"a)\\n******************** Base Multi-Layered Perceptron Classifier ********************\\n\")\n",
    "    file.write(\"b)\\n\" + str(confusion_matrix(y_test, y_pred))+ \"\\n\")\n",
    "    file.write(\"c)\\n\" + str(classification_report(y_test,y_pred)) + \"\\n\")\n",
    "    file.write(\"d)\\naccuracy: \" + str(accuracy_score(y_test, y_pred)) + \"\\n\")\n",
    "    file.write(\"macro average F1: \" + str(f1_score(y_test, y_pred, average='macro')) + \"\\n\")\n",
    "    file.write(\"weighted average F1: \" + str(f1_score(y_test, y_pred, average='weighted')) + \"\\n\")"
   ]
  },
  {
   "cell_type": "code",
   "execution_count": null,
   "id": "fd1f58c6",
   "metadata": {},
   "outputs": [],
   "source": [
    "parameters = {\n",
    "    'activation': ['logistic','tanh','relu','identity'],\n",
    "    'hidden_layer_sizes':[(2,90),(3,50)],\n",
    "    'solver':['adam','sgd'],\n",
    "}\n",
    "grid = GridSearchCV(MLPClassifier(),parameters)\n",
    "grid.fit(x_train,y_train)\n",
    "grid.best_params_\n",
    "y_pred = clf.predict(x_test)\n",
    "\n",
    "with open('drugs-performance.txt','a') as file:\n",
    "    file.write(\"a)\\n******************** Top Multi-Layered Perceptron Classifier ********************\\n\")\n",
    "    file.write(\"b)\\n\" + str(confusion_matrix(y_test, y_pred))+ \"\\n\")\n",
    "    file.write(\"c)\\n\" + str(classification_report(y_test,y_pred)) + \"\\n\")\n",
    "    file.write(\"d)\\naccuracy: \" + str(accuracy_score(y_test, y_pred)) + \"\\n\")\n",
    "    file.write(\"macro average F1: \" + str(f1_score(y_test, y_pred, average='macro')) + \"\\n\")\n",
    "    file.write(\"weighted average F1: \" + str(f1_score(y_test, y_pred, average='weighted')) + \"\\n\")"
   ]
  },
  {
   "cell_type": "code",
   "execution_count": null,
   "id": "09aaa578",
   "metadata": {},
   "outputs": [],
   "source": []
  }
 ],
 "metadata": {
  "kernelspec": {
   "display_name": "Python 3 (ipykernel)",
   "language": "python",
   "name": "python3"
  },
  "language_info": {
   "codemirror_mode": {
    "name": "ipython",
    "version": 3
   },
   "file_extension": ".py",
   "mimetype": "text/x-python",
   "name": "python",
   "nbconvert_exporter": "python",
   "pygments_lexer": "ipython3",
   "version": "3.9.5"
  }
 },
 "nbformat": 4,
 "nbformat_minor": 5
}
